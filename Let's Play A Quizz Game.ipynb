{
 "cells": [
  {
   "cell_type": "code",
   "execution_count": 1,
   "metadata": {},
   "outputs": [
    {
     "name": "stdout",
     "output_type": "stream",
     "text": [
      "Welcome to the game\n",
      "Wanna play? y/n y\n",
      "Fantastic!\n",
      "Q_1 : How many planets in the solar system (type an integer) ?? 09\n",
      "Correct !!\n",
      "Q_2 : Sun is bigger or Earth ?? Earth\n",
      "incorrect!\n",
      "Q_3 : water is solid or liquid state?? liquid\n",
      "Correct !!\n",
      "Q_4 : Is sugar sweet ?? y/n n\n",
      "incorrect!\n",
      "Q_5 : is Chocolate beans sweet ?? y/n n\n",
      "Correct !!\n",
      "RESULT : Your score is 60.0%\n"
     ]
    }
   ],
   "source": [
    "print(\"Welcome to the game\")\n",
    "User = input(\"Wanna play? y/n \")\n",
    "Score = 0\n",
    "\n",
    "if User == \"y\":\n",
    "    print(\"Fantastic!\")\n",
    "    Q_1 = int(input(\"Q_1 : How many planets in the solar system (type an integer) ?? \"))\n",
    "    if Q_1 == 9:\n",
    "        print(\"Correct !!\")\n",
    "        Score += 1\n",
    "    else:\n",
    "        print(\"incorrect!\")\n",
    "    Q_2 = input(\"Q_2 : Sun is bigger or Earth ?? \")\n",
    "    if Q_2.lower() == \"sun\" :\n",
    "        print(\"Correct !!\")\n",
    "        Score += 1\n",
    "    else:\n",
    "        print(\"incorrect!\")\n",
    "    Q_3 = input(\"Q_3 : water is solid or liquid state?? \")\n",
    "    if Q_3.lower() == \"liquid\" :\n",
    "        print(\"Correct !!\")\n",
    "        Score += 1\n",
    "    else:\n",
    "        print(\"incorrect!\")\n",
    "    Q_4 = input(\"Q_4 : Is sugar sweet ?? y/n \")\n",
    "    if Q_4.lower() == \"y\" :\n",
    "        print(\"Correct !!\")\n",
    "        Score += 1\n",
    "    else:\n",
    "        print(\"incorrect!\")\n",
    "    Q_5 = input(\"Q_5 : is Chocolate beans sweet ?? y/n \").lower()\n",
    "    if Q_5 == \"n\" :\n",
    "        print(\"Correct !!\")\n",
    "        Score += 1\n",
    "    else:\n",
    "        print(\"incorrect!\")\n",
    "    print(\"RESULT : Your score is \" + str(Score/5 *100)+ \"%\")\n",
    "\n",
    "else:\n",
    "    print(\"better play to have fun !!\")"
   ]
  }
 ],
 "metadata": {
  "kernelspec": {
   "display_name": "Python 3",
   "language": "python",
   "name": "python3"
  },
  "language_info": {
   "codemirror_mode": {
    "name": "ipython",
    "version": 3
   },
   "file_extension": ".py",
   "mimetype": "text/x-python",
   "name": "python",
   "nbconvert_exporter": "python",
   "pygments_lexer": "ipython3",
   "version": "3.6.8"
  }
 },
 "nbformat": 4,
 "nbformat_minor": 2
}
