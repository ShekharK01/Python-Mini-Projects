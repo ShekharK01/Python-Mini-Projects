{
 "cells": [
  {
   "cell_type": "code",
   "execution_count": 4,
   "metadata": {},
   "outputs": [
    {
     "name": "stdout",
     "output_type": "stream",
     "text": [
      "Guess_number963\n",
      "1\n",
      "incorrect input !! put number between 1 to 5\n",
      "Guess_number2\n",
      "3\n",
      "try again\n",
      "Guess_number2\n",
      "5\n",
      "try again\n",
      "Guess_number3\n",
      "5\n",
      "try again\n",
      "Guess_number5\n",
      "2\n",
      "incorrect input !! put number between 1 to 5\n",
      "Guess_number2\n",
      "4\n",
      "try again\n",
      "Guess_number3\n",
      "1\n",
      "try again\n",
      "Guess_number1\n",
      "3\n",
      "try again\n",
      "Guess_number2\n",
      "2\n",
      "Good\n",
      "You managed in 9 number of guesses !! \n"
     ]
    }
   ],
   "source": [
    "import random\n",
    "\n",
    "guess = 0\n",
    "while True:\n",
    "    guess += 1\n",
    "    p = int(input(\"Guess_number\"))\n",
    "    s = random.randint(1,5)\n",
    "    print(s)\n",
    "    if p < 5: \n",
    "        if p==s:\n",
    "            print(\"Good\")\n",
    "            print(\"You managed in \" + str(guess) +\" number of guesses !! \")\n",
    "            break\n",
    "        else:\n",
    "            print(\"try again\")\n",
    "            continue\n",
    "    else:\n",
    "        print(\"incorrect input !! put number between 1 to 5\")\n",
    "        continue"
   ]
  }
 ],
 "metadata": {
  "kernelspec": {
   "display_name": "Python 3",
   "language": "python",
   "name": "python3"
  },
  "language_info": {
   "codemirror_mode": {
    "name": "ipython",
    "version": 3
   },
   "file_extension": ".py",
   "mimetype": "text/x-python",
   "name": "python",
   "nbconvert_exporter": "python",
   "pygments_lexer": "ipython3",
   "version": "3.6.8"
  }
 },
 "nbformat": 4,
 "nbformat_minor": 2
}
